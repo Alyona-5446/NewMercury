{
  "cells": [
    {
      "cell_type": "markdown",
      "metadata": {
        "id": "ims4U0i7oiv8"
      },
      "source": [
        "## Installation & imports"
      ]
    },
    {
      "cell_type": "markdown",
      "metadata": {
        "id": "Nyx1Ys1pKJBj"
      },
      "source": [
        "### Installation"
      ]
    },
    {
      "cell_type": "code",
      "execution_count": null,
      "metadata": {
        "id": "fyFueKOCDOV6"
      },
      "outputs": [],
      "source": [
        "!pip install datasets\n",
        "!pip install accelerate\n",
        "!pip install einops\n",
        "!pip install transformers>=4.32.0\n",
        "!pip install optimum>=1.12.0\n",
        "!pip install auto-gptq --extra-index-url https://huggingface.github.io/autogptq-index/whl/cu118/  # Use cu117 if on CUDA 11.7"
      ]
    },
    {
      "cell_type": "code",
      "execution_count": null,
      "metadata": {
        "id": "fL6Erw3bKlGj"
      },
      "outputs": [],
      "source": [
        "!nvcc --version"
      ]
    },
    {
      "cell_type": "markdown",
      "metadata": {
        "id": "zF2QVTg6KLvy"
      },
      "source": [
        "### Imports"
      ]
    },
    {
      "cell_type": "code",
      "execution_count": null,
      "metadata": {
        "id": "yxVyBjX7oh9o"
      },
      "outputs": [],
      "source": [
        "from transformers import AutoTokenizer\n",
        "import transformers\n",
        "import torch\n",
        "from torch.utils.data import Dataset\n",
        "\n",
        "if torch.cuda.is_available():\n",
        "    TORCH_DTYPE = torch.float16\n",
        "    DEFAULT_DEVICE = \"cuda\"\n",
        "else:\n",
        "    TORCH_DTYPE = torch.float32\n",
        "    DEFAULT_DEVICE = \"cpu\"\n",
        "\n",
        "torch.set_default_device(DEFAULT_DEVICE)\n",
        "transformers.__version__"
      ]
    },
    {
      "cell_type": "code",
      "execution_count": null,
      "metadata": {
        "id": "ICXJxaBVFpNG"
      },
      "outputs": [],
      "source": [
        "import random\n",
        "import gc\n",
        "\n",
        "SEED = 123"
      ]
    },
    {
      "cell_type": "code",
      "execution_count": null,
      "metadata": {
        "id": "ia9y1nHAVU6U"
      },
      "outputs": [],
      "source": [
        "import locale\n",
        "locale.getpreferredencoding = (lambda *args: 'UTF-8')"
      ]
    },
    {
      "cell_type": "code",
      "execution_count": null,
      "metadata": {
        "id": "oJvzzSfbIE5T"
      },
      "outputs": [],
      "source": [
        "import json\n",
        "from copy import deepcopy\n",
        "from datasets import load_dataset\n",
        "from google.colab import files\n",
        "from tqdm import tqdm"
      ]
    },
    {
      "cell_type": "markdown",
      "metadata": {
        "id": "VEYrdYTXES-G"
      },
      "source": [
        "## Data preparation"
      ]
    },
    {
      "cell_type": "markdown",
      "metadata": {
        "id": "ukuBApCuxuvz"
      },
      "source": [
        "### Mercury Eval (256 problems)"
      ]
    },
    {
      "cell_type": "code",
      "execution_count": null,
      "metadata": {
        "id": "JZeqCmndL4BI"
      },
      "outputs": [],
      "source": [
        "mercury = load_dataset('Elfsong/Mercury', split='eval')"
      ]
    },
    {
      "cell_type": "code",
      "execution_count": null,
      "metadata": {
        "id": "O_Pt3wI0ew1G"
      },
      "outputs": [],
      "source": [
        "class ListDataset(Dataset):\n",
        "    def __init__(self, original_list):\n",
        "        self.original_list = original_list\n",
        "\n",
        "    def __len__(self):\n",
        "        return len(self.original_list)\n",
        "\n",
        "    def __getitem__(self, i):\n",
        "        return self.original_list[i]"
      ]
    },
    {
      "cell_type": "code",
      "execution_count": null,
      "metadata": {
        "id": "GVJZTW3WYvy3"
      },
      "outputs": [],
      "source": [
        "def prompt_generate(instance):\n",
        "    content = instance['pretty_content'][0]\n",
        "    code_prompt = instance['prompt']\n",
        "    prompt = f\"Complete python3 code to solve the following coding problem.\\n{content}\\n{code_prompt}\"\n",
        "    return prompt"
      ]
    },
    {
      "cell_type": "code",
      "execution_count": null,
      "metadata": {
        "id": "HLDIFjlhfBFa"
      },
      "outputs": [],
      "source": [
        "prompts = ListDataset([prompt_generate(elem) for elem in mercury])"
      ]
    },
    {
      "cell_type": "markdown",
      "metadata": {
        "id": "77Oew_Uvgvx7"
      },
      "source": [
        "## Generation"
      ]
    },
    {
      "cell_type": "markdown",
      "metadata": {
        "id": "fz2pcdWeo2u-"
      },
      "source": [
        "### Code Llama (7B)"
      ]
    },
    {
      "cell_type": "markdown",
      "metadata": {
        "id": "qxNQnlw25xLk"
      },
      "source": [
        "#### Model init"
      ]
    },
    {
      "cell_type": "code",
      "execution_count": null,
      "metadata": {
        "id": "vPa5Dl0RDtRF"
      },
      "outputs": [],
      "source": [
        "model_name = \"TheBloke/CodeLlama-7B-Python-GPTQ\"\n",
        "\n",
        "tokenizer = AutoTokenizer.from_pretrained(model_name, trust_remote_code=True, padding_side='left')\n",
        "tokenizer.pad_token_id = tokenizer.eos_token_id\n",
        "\n",
        "model_code_llama_7b = transformers.pipeline(\n",
        "    \"text-generation\",\n",
        "    model=model_name,\n",
        "    tokenizer=tokenizer,\n",
        "    torch_dtype=TORCH_DTYPE,\n",
        "    device_map=\"auto\",\n",
        "    trust_remote_code=True,\n",
        ")"
      ]
    },
    {
      "cell_type": "markdown",
      "metadata": {
        "id": "1J6EFmBW163u"
      },
      "source": [
        "#### Mercury"
      ]
    },
    {
      "cell_type": "code",
      "execution_count": null,
      "metadata": {
        "id": "aOsHcENQQUnM"
      },
      "outputs": [],
      "source": [
        "random.seed(SEED)\n",
        "torch.manual_seed(SEED)\n",
        "\n",
        "sequences = model_code_llama_7b(\n",
        "    prompts,\n",
        "    do_sample=True,\n",
        "    batch_size=4,\n",
        "    top_k=10,\n",
        "    temperature=0.4,\n",
        "    top_p=0.95,\n",
        "    num_return_sequences=1,\n",
        "    pad_token_id=tokenizer.eos_token_id,\n",
        "    eos_token_id=tokenizer.eos_token_id,\n",
        "    max_new_tokens=512,\n",
        ")\n",
        "\n",
        "output = [\n",
        "    sequence[0]['generated_text'].strip()\n",
        "    for sequence in tqdm(sequences, total=len(prompts))\n",
        "]"
      ]
    },
    {
      "cell_type": "markdown",
      "metadata": {
        "id": "8DahNi_61_br"
      },
      "source": [
        "#### TearDown"
      ]
    },
    {
      "cell_type": "code",
      "execution_count": null,
      "metadata": {
        "id": "OhZmD4KM1_br"
      },
      "outputs": [],
      "source": [
        "del tokenizer\n",
        "del model_code_llama_7b\n",
        "gc.collect()"
      ]
    },
    {
      "cell_type": "code",
      "execution_count": null,
      "metadata": {
        "id": "GrYEuPhf1_br"
      },
      "outputs": [],
      "source": [
        "torch.cuda.empty_cache()\n",
        "torch.cuda.memory_allocated()"
      ]
    },
    {
      "cell_type": "markdown",
      "source": [
        "### Phi-1 (1.3B)\n"
      ],
      "metadata": {
        "id": "XpbAnKdcyAvU"
      }
    },
    {
      "cell_type": "markdown",
      "source": [
        "#### Model init"
      ],
      "metadata": {
        "id": "ogVn2D6N2Af-"
      }
    },
    {
      "cell_type": "code",
      "source": [
        "model_name = \"microsoft/phi-1\"\n",
        "\n",
        "tokenizer = AutoTokenizer.from_pretrained(model_name, trust_remote_code=True, padding_side='left')\n",
        "tokenizer.pad_token_id = tokenizer.eos_token_id\n",
        "\n",
        "model_phi_1 = transformers.pipeline(\n",
        "    \"text-generation\",\n",
        "    model=model_name,\n",
        "    tokenizer=tokenizer,\n",
        "    torch_dtype=TORCH_DTYPE,\n",
        "    device_map=\"auto\",\n",
        "    trust_remote_code=True,\n",
        ")"
      ],
      "metadata": {
        "id": "mjjhi2MG17qv"
      },
      "execution_count": null,
      "outputs": []
    },
    {
      "cell_type": "markdown",
      "source": [
        "#### Mercury"
      ],
      "metadata": {
        "id": "V3P8XI6H3GnR"
      }
    },
    {
      "cell_type": "code",
      "source": [
        "random.seed(SEED)\n",
        "torch.manual_seed(SEED)\n",
        "\n",
        "sequences = model_phi_1(\n",
        "    prompts,\n",
        "    do_sample=True,\n",
        "    batch_size=4,\n",
        "    top_k=10,\n",
        "    temperature=0.2,\n",
        "    top_p=0.95,\n",
        "    num_return_sequences=1,\n",
        "    pad_token_id=tokenizer.eos_token_id,\n",
        "    eos_token_id=tokenizer.eos_token_id,\n",
        "    max_new_tokens=512,\n",
        ")\n",
        "\n",
        "output = [\n",
        "    sequence[0]['generated_text'].strip()\n",
        "    for sequence in tqdm(sequences, total=len(prompts))\n",
        "]"
      ],
      "metadata": {
        "id": "PYd4GK__3Ncl"
      },
      "execution_count": null,
      "outputs": []
    },
    {
      "cell_type": "markdown",
      "source": [
        "#### Teardown"
      ],
      "metadata": {
        "id": "tWXKEQhE4jDd"
      }
    },
    {
      "cell_type": "code",
      "source": [
        "del tokenizer\n",
        "del model_phi_1\n",
        "gc.collect()"
      ],
      "metadata": {
        "id": "Yqo_dFOj4mzH"
      },
      "execution_count": null,
      "outputs": []
    },
    {
      "cell_type": "code",
      "source": [
        "torch.cuda.empty_cache()\n",
        "torch.cuda.memory_allocated()"
      ],
      "metadata": {
        "id": "mbo37aP_5DEO"
      },
      "execution_count": null,
      "outputs": []
    },
    {
      "cell_type": "markdown",
      "source": [
        "### Phi-2 (2.7B)"
      ],
      "metadata": {
        "id": "6_RvQjjM5XXY"
      }
    },
    {
      "cell_type": "markdown",
      "source": [
        "#### Model init"
      ],
      "metadata": {
        "id": "R3WwhN9X5u5A"
      }
    },
    {
      "cell_type": "code",
      "source": [
        "model_name = \"microsoft/phi-2\"\n",
        "\n",
        "tokenizer = AutoTokenizer.from_pretrained(model_name, trust_remote_code=True, padding_side='left')\n",
        "tokenizer.pad_token_id = tokenizer.eos_token_id\n",
        "\n",
        "model_phi_2 = transformers.pipeline(\n",
        "    \"text-generation\",\n",
        "    model=model_name,\n",
        "    tokenizer=tokenizer,\n",
        "    torch_dtype=TORCH_DTYPE,\n",
        "    device_map=\"auto\",\n",
        "    trust_remote_code=True,\n",
        ")"
      ],
      "metadata": {
        "id": "Xy4jFoJK57e9"
      },
      "execution_count": null,
      "outputs": []
    },
    {
      "cell_type": "markdown",
      "source": [
        "#### Mercury"
      ],
      "metadata": {
        "id": "CZ_AhE355xGI"
      }
    },
    {
      "cell_type": "code",
      "source": [
        "random.seed(SEED)\n",
        "torch.manual_seed(SEED)\n",
        "\n",
        "sequences = model_phi_2(\n",
        "    prompts,\n",
        "    do_sample=True,\n",
        "    batch_size=4,\n",
        "    top_k=10,\n",
        "    temperature=0.3,\n",
        "    top_p=0.95,\n",
        "    num_return_sequences=1,\n",
        "    pad_token_id=tokenizer.eos_token_id,\n",
        "    eos_token_id=tokenizer.eos_token_id,\n",
        "    max_new_tokens=512,\n",
        ")\n",
        "\n",
        "output = [\n",
        "    sequence[0]['generated_text']\n",
        "    for sequence in tqdm(sequences, total=len(prompts))\n",
        "]"
      ],
      "metadata": {
        "id": "p5YWiECy7P2p"
      },
      "execution_count": null,
      "outputs": []
    },
    {
      "cell_type": "markdown",
      "source": [
        "#### Teardown"
      ],
      "metadata": {
        "id": "EcCj2d5x52Gy"
      }
    },
    {
      "cell_type": "code",
      "source": [
        "del tokenizer\n",
        "del model_phi_2\n",
        "gc.collect()"
      ],
      "metadata": {
        "id": "7gn-U_D479qI"
      },
      "execution_count": null,
      "outputs": []
    },
    {
      "cell_type": "code",
      "source": [
        "torch.cuda.empty_cache()\n",
        "torch.cuda.memory_allocated()"
      ],
      "metadata": {
        "id": "b6KYiQV58LeC"
      },
      "execution_count": null,
      "outputs": []
    },
    {
      "cell_type": "markdown",
      "source": [
        "## Postprocessing"
      ],
      "metadata": {
        "id": "VePln3Tm6vpe"
      }
    },
    {
      "cell_type": "code",
      "source": [
        "request = 'Complete python3 code to solve the following coding problem.'\n",
        "\n",
        "completions = dict()\n",
        "for idx, instance in enumerate(mercury):\n",
        "  content = instance['pretty_content'][0]\n",
        "  text_prompt = f'{request}\\n{content}\\n'\n",
        "  slug_name = instance['slug_name']\n",
        "  completions[slug_name] = output[idx].replace(text_prompt, '')"
      ],
      "metadata": {
        "id": "t9W-uRyk6_MO"
      },
      "execution_count": null,
      "outputs": []
    },
    {
      "cell_type": "code",
      "source": [
        "with open('completions.json', 'w', encoding='utf-8') as file:\n",
        "  file.write(json.dumps(completions))"
      ],
      "metadata": {
        "id": "t9zLv36D7F6r"
      },
      "execution_count": null,
      "outputs": []
    },
    {
      "cell_type": "code",
      "source": [
        "files.download('completions.json')"
      ],
      "metadata": {
        "id": "b4F5A1Aw2YIf",
        "colab": {
          "base_uri": "https://localhost:8080/",
          "height": 37
        },
        "outputId": "f951509b-7d56-4a45-dd25-efb1a86b5de3"
      },
      "execution_count": null,
      "outputs": [
        {
          "output_type": "display_data",
          "data": {
            "text/plain": [
              "<IPython.core.display.Javascript object>"
            ],
            "application/javascript": [
              "\n",
              "    async function download(id, filename, size) {\n",
              "      if (!google.colab.kernel.accessAllowed) {\n",
              "        return;\n",
              "      }\n",
              "      const div = document.createElement('div');\n",
              "      const label = document.createElement('label');\n",
              "      label.textContent = `Downloading \"${filename}\": `;\n",
              "      div.appendChild(label);\n",
              "      const progress = document.createElement('progress');\n",
              "      progress.max = size;\n",
              "      div.appendChild(progress);\n",
              "      document.body.appendChild(div);\n",
              "\n",
              "      const buffers = [];\n",
              "      let downloaded = 0;\n",
              "\n",
              "      const channel = await google.colab.kernel.comms.open(id);\n",
              "      // Send a message to notify the kernel that we're ready.\n",
              "      channel.send({})\n",
              "\n",
              "      for await (const message of channel.messages) {\n",
              "        // Send a message to notify the kernel that we're ready.\n",
              "        channel.send({})\n",
              "        if (message.buffers) {\n",
              "          for (const buffer of message.buffers) {\n",
              "            buffers.push(buffer);\n",
              "            downloaded += buffer.byteLength;\n",
              "            progress.value = downloaded;\n",
              "          }\n",
              "        }\n",
              "      }\n",
              "      const blob = new Blob(buffers, {type: 'application/binary'});\n",
              "      const a = document.createElement('a');\n",
              "      a.href = window.URL.createObjectURL(blob);\n",
              "      a.download = filename;\n",
              "      div.appendChild(a);\n",
              "      a.click();\n",
              "      div.remove();\n",
              "    }\n",
              "  "
            ]
          },
          "metadata": {}
        },
        {
          "output_type": "display_data",
          "data": {
            "text/plain": [
              "<IPython.core.display.Javascript object>"
            ],
            "application/javascript": [
              "download(\"download_045eb287-a462-4695-a3e3-23165c0fec4c\", \"completions.jsonl\", 312196)"
            ]
          },
          "metadata": {}
        }
      ]
    }
  ],
  "metadata": {
    "colab": {
      "collapsed_sections": [
        "ims4U0i7oiv8",
        "Nyx1Ys1pKJBj",
        "zF2QVTg6KLvy",
        "VEYrdYTXES-G",
        "77Oew_Uvgvx7"
      ],
      "provenance": [],
      "toc_visible": true,
      "gpuType": "T4"
    },
    "kernelspec": {
      "display_name": "Python 3",
      "name": "python3"
    },
    "language_info": {
      "name": "python"
    },
    "accelerator": "GPU"
  },
  "nbformat": 4,
  "nbformat_minor": 0
}